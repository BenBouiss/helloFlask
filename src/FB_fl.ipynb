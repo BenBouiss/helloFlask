{
 "cells": [
  {
   "cell_type": "code",
   "execution_count": 12,
   "metadata": {},
   "outputs": [],
   "source": [
    "import flask\n",
    "import jinja2\n",
    "import sqlite3\n",
    "import pandas as pd\n"
   ]
  },
  {
   "cell_type": "code",
   "execution_count": 51,
   "metadata": {},
   "outputs": [],
   "source": [
    "\n",
    "def recreate_database(path):\n",
    "    query = '''\n",
    "DROP TABLE IF EXISTS Visiteur ;\n",
    "CREATE TABLE Visiteur (\n",
    "\tCount int4 NOT NULL\n",
    ");\n",
    "\n",
    "    '''\n",
    "    conn = sqlite3.connect(path)\n",
    "    c = conn.cursor()\n",
    "    c.executescript(query)\n",
    "\n",
    "\n",
    "path = \"visits.db\"\n",
    "recreate_database(path)"
   ]
  },
  {
   "cell_type": "code",
   "execution_count": 56,
   "metadata": {},
   "outputs": [],
   "source": [
    "con = sqlite3.connect(path)\n",
    "cur = con.cursor()\n",
    "query = \"INSERT INTO Visiteur (Count) VALUES (1);\"\n",
    "\n",
    "res = cur.execute(query)\n",
    "con.commit()\n",
    "con.close()"
   ]
  },
  {
   "cell_type": "code",
   "execution_count": 57,
   "metadata": {},
   "outputs": [],
   "source": [
    "con = sqlite3.connect(path)\n",
    "cur = con.cursor()\n",
    "\n",
    "query = \"UPDATE Visiteur SET Count = Count +1;\"\n",
    "res = cur.execute(query)\n",
    "con.commit()\n",
    "con.close()"
   ]
  },
  {
   "cell_type": "code",
   "execution_count": 58,
   "metadata": {},
   "outputs": [],
   "source": [
    "con = sqlite3.connect(path)\n",
    "cur = con.cursor()\n",
    "query = \"SELECT * FROM Visiteur\"\n",
    "df = pd.read_sql(sql = query, con = con)\n",
    "con.close()\n",
    "df.loc[0].values[0]"
   ]
  },
  {
   "cell_type": "code",
   "execution_count": 62,
   "metadata": {},
   "outputs": [
    {
     "data": {
      "text/plain": [
       "2"
      ]
     },
     "execution_count": 62,
     "metadata": {},
     "output_type": "execute_result"
    }
   ],
   "source": []
  },
  {
   "cell_type": "code",
   "execution_count": null,
   "metadata": {},
   "outputs": [],
   "source": []
  }
 ],
 "metadata": {
  "kernelspec": {
   "display_name": "Flask-env",
   "language": "python",
   "name": "python3"
  },
  "language_info": {
   "codemirror_mode": {
    "name": "ipython",
    "version": 3
   },
   "file_extension": ".py",
   "mimetype": "text/x-python",
   "name": "python",
   "nbconvert_exporter": "python",
   "pygments_lexer": "ipython3",
   "version": "3.8.6"
  }
 },
 "nbformat": 4,
 "nbformat_minor": 2
}
